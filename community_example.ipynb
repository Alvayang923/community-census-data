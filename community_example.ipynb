{
 "cells": [
  {
   "cell_type": "markdown",
   "id": "8b31b48e",
   "metadata": {},
   "source": [
    "# Example on using the package 'community_ry2403'"
   ]
  },
  {
   "cell_type": "markdown",
   "id": "c5d4685d",
   "metadata": {},
   "source": [
    "### Backgroud\n",
    "A researcher needs to look up some community level data from the the US Census Bureau. However, he found that some of data are reported as ZIP Code level and others are ZIP Code Tabulation Areas (ZCTA) level. In order to ensure the consistency of analysis units, he needs to do some conversion or say aggregation. Then he found a package..."
   ]
  },
  {
   "cell_type": "markdown",
   "id": "99f04d86",
   "metadata": {},
   "source": [
    "### prepare library\n",
    "https://test.pypi.org/project/community-ry2403/"
   ]
  },
  {
   "cell_type": "code",
   "execution_count": 62,
   "id": "bf816b9f",
   "metadata": {},
   "outputs": [
    {
     "name": "stdout",
     "output_type": "stream",
     "text": [
      "Looking in indexes: https://test.pypi.org/pypi/, https://pypi.org/simple\n",
      "Requirement already satisfied: community-ry2403 in c:\\users\\alvay\\anaconda3\\envs\\py39\\lib\\site-packages (0.1.0)\n",
      "Requirement already satisfied: pandas<2.0.0,>=1.3.5 in c:\\users\\alvay\\anaconda3\\envs\\py39\\lib\\site-packages (from community-ry2403) (1.3.5)\n",
      "Requirement already satisfied: requests<3.0.0,>=2.26.0 in c:\\users\\alvay\\anaconda3\\envs\\py39\\lib\\site-packages (from community-ry2403) (2.26.0)\n",
      "Requirement already satisfied: pytest<7.0.0,>=6.2.5 in c:\\users\\alvay\\anaconda3\\envs\\py39\\lib\\site-packages (from community-ry2403) (6.2.5)\n",
      "Requirement already satisfied: fuzzywuzzy<0.19.0,>=0.18.0 in c:\\users\\alvay\\anaconda3\\envs\\py39\\lib\\site-packages (from community-ry2403) (0.18.0)\n",
      "Requirement already satisfied: python-dateutil>=2.7.3 in c:\\users\\alvay\\anaconda3\\envs\\py39\\lib\\site-packages (from pandas<2.0.0,>=1.3.5->community-ry2403) (2.8.2)\n",
      "Requirement already satisfied: pytz>=2017.3 in c:\\users\\alvay\\anaconda3\\envs\\py39\\lib\\site-packages (from pandas<2.0.0,>=1.3.5->community-ry2403) (2021.3)\n",
      "Requirement already satisfied: numpy>=1.17.3 in c:\\users\\alvay\\anaconda3\\envs\\py39\\lib\\site-packages (from pandas<2.0.0,>=1.3.5->community-ry2403) (1.21.4)\n",
      "Requirement already satisfied: py>=1.8.2 in c:\\users\\alvay\\anaconda3\\envs\\py39\\lib\\site-packages (from pytest<7.0.0,>=6.2.5->community-ry2403) (1.11.0)\n",
      "Requirement already satisfied: colorama in c:\\users\\alvay\\anaconda3\\envs\\py39\\lib\\site-packages (from pytest<7.0.0,>=6.2.5->community-ry2403) (0.4.4)\n",
      "Requirement already satisfied: pluggy<2.0,>=0.12 in c:\\users\\alvay\\anaconda3\\envs\\py39\\lib\\site-packages (from pytest<7.0.0,>=6.2.5->community-ry2403) (1.0.0)\n",
      "Requirement already satisfied: atomicwrites>=1.0 in c:\\users\\alvay\\anaconda3\\envs\\py39\\lib\\site-packages (from pytest<7.0.0,>=6.2.5->community-ry2403) (1.4.0)\n",
      "Requirement already satisfied: toml in c:\\users\\alvay\\anaconda3\\envs\\py39\\lib\\site-packages (from pytest<7.0.0,>=6.2.5->community-ry2403) (0.10.2)\n",
      "Requirement already satisfied: iniconfig in c:\\users\\alvay\\anaconda3\\envs\\py39\\lib\\site-packages (from pytest<7.0.0,>=6.2.5->community-ry2403) (1.1.1)\n",
      "Requirement already satisfied: packaging in c:\\users\\alvay\\anaconda3\\envs\\py39\\lib\\site-packages (from pytest<7.0.0,>=6.2.5->community-ry2403) (21.2)\n",
      "Requirement already satisfied: attrs>=19.2.0 in c:\\users\\alvay\\anaconda3\\envs\\py39\\lib\\site-packages (from pytest<7.0.0,>=6.2.5->community-ry2403) (21.2.0)\n",
      "Requirement already satisfied: six>=1.5 in c:\\users\\alvay\\anaconda3\\envs\\py39\\lib\\site-packages (from python-dateutil>=2.7.3->pandas<2.0.0,>=1.3.5->community-ry2403) (1.16.0)\n",
      "Requirement already satisfied: urllib3<1.27,>=1.21.1 in c:\\users\\alvay\\anaconda3\\envs\\py39\\lib\\site-packages (from requests<3.0.0,>=2.26.0->community-ry2403) (1.26.7)\n",
      "Requirement already satisfied: certifi>=2017.4.17 in c:\\users\\alvay\\anaconda3\\envs\\py39\\lib\\site-packages (from requests<3.0.0,>=2.26.0->community-ry2403) (2021.10.8)\n",
      "Requirement already satisfied: charset-normalizer~=2.0.0 in c:\\users\\alvay\\anaconda3\\envs\\py39\\lib\\site-packages (from requests<3.0.0,>=2.26.0->community-ry2403) (2.0.9)\n",
      "Requirement already satisfied: idna<4,>=2.5 in c:\\users\\alvay\\anaconda3\\envs\\py39\\lib\\site-packages (from requests<3.0.0,>=2.26.0->community-ry2403) (3.3)\n",
      "Requirement already satisfied: pyparsing<3,>=2.0.2 in c:\\users\\alvay\\anaconda3\\envs\\py39\\lib\\site-packages (from packaging->pytest<7.0.0,>=6.2.5->community-ry2403) (2.4.7)\n"
     ]
    }
   ],
   "source": [
    "!pip install -i https://test.pypi.org/pypi/ --extra-index-url https://pypi.org/simple community-ry2403"
   ]
  },
  {
   "cell_type": "markdown",
   "id": "3070279f",
   "metadata": {},
   "source": [
    "# 1: Search Variables with fuzzy research    \n",
    "\n",
    "**Specifically, he's interested in some data related to household by marry status. But he doesn't know the exact variable code in the Census Survey. So he will use the class `variables` and the function `find_variable()`**"
   ]
  },
  {
   "cell_type": "code",
   "execution_count": 26,
   "id": "5f461c57",
   "metadata": {},
   "outputs": [
    {
     "data": {
      "text/html": [
       "<div>\n",
       "<style scoped>\n",
       "    .dataframe tbody tr th:only-of-type {\n",
       "        vertical-align: middle;\n",
       "    }\n",
       "\n",
       "    .dataframe tbody tr th {\n",
       "        vertical-align: top;\n",
       "    }\n",
       "\n",
       "    .dataframe thead th {\n",
       "        text-align: right;\n",
       "    }\n",
       "</style>\n",
       "<table border=\"1\" class=\"dataframe\">\n",
       "  <thead>\n",
       "    <tr style=\"text-align: right;\">\n",
       "      <th></th>\n",
       "      <th>variable</th>\n",
       "      <th>label</th>\n",
       "    </tr>\n",
       "  </thead>\n",
       "  <tbody>\n",
       "    <tr>\n",
       "      <th>0</th>\n",
       "      <td>DP02_0001E</td>\n",
       "      <td>HOUSEHOLDS BY TYPE!!Total households</td>\n",
       "    </tr>\n",
       "    <tr>\n",
       "      <th>1</th>\n",
       "      <td>DP02_0001PE</td>\n",
       "      <td>HOUSEHOLDS BY TYPE!!Total households</td>\n",
       "    </tr>\n",
       "    <tr>\n",
       "      <th>2</th>\n",
       "      <td>DP02_0002E</td>\n",
       "      <td>HOUSEHOLDS BY TYPE!!Total households!!Married-...</td>\n",
       "    </tr>\n",
       "    <tr>\n",
       "      <th>3</th>\n",
       "      <td>DP02_0002PE</td>\n",
       "      <td>HOUSEHOLDS BY TYPE!!Total households!!Married-...</td>\n",
       "    </tr>\n",
       "    <tr>\n",
       "      <th>4</th>\n",
       "      <td>DP02_0003E</td>\n",
       "      <td>HOUSEHOLDS BY TYPE!!Total households!!Married-...</td>\n",
       "    </tr>\n",
       "    <tr>\n",
       "      <th>...</th>\n",
       "      <td>...</td>\n",
       "      <td>...</td>\n",
       "    </tr>\n",
       "    <tr>\n",
       "      <th>123</th>\n",
       "      <td>DP03_0072PE</td>\n",
       "      <td>INCOME AND BENEFITS (IN 2019 INFLATION-ADJUSTE...</td>\n",
       "    </tr>\n",
       "    <tr>\n",
       "      <th>124</th>\n",
       "      <td>DP03_0073E</td>\n",
       "      <td>INCOME AND BENEFITS (IN 2019 INFLATION-ADJUSTE...</td>\n",
       "    </tr>\n",
       "    <tr>\n",
       "      <th>125</th>\n",
       "      <td>DP03_0073PE</td>\n",
       "      <td>INCOME AND BENEFITS (IN 2019 INFLATION-ADJUSTE...</td>\n",
       "    </tr>\n",
       "    <tr>\n",
       "      <th>126</th>\n",
       "      <td>DP03_0074E</td>\n",
       "      <td>INCOME AND BENEFITS (IN 2019 INFLATION-ADJUSTE...</td>\n",
       "    </tr>\n",
       "    <tr>\n",
       "      <th>127</th>\n",
       "      <td>DP03_0074PE</td>\n",
       "      <td>INCOME AND BENEFITS (IN 2019 INFLATION-ADJUSTE...</td>\n",
       "    </tr>\n",
       "  </tbody>\n",
       "</table>\n",
       "<p>128 rows × 2 columns</p>\n",
       "</div>"
      ],
      "text/plain": [
       "        variable                                              label\n",
       "0     DP02_0001E               HOUSEHOLDS BY TYPE!!Total households\n",
       "1    DP02_0001PE               HOUSEHOLDS BY TYPE!!Total households\n",
       "2     DP02_0002E  HOUSEHOLDS BY TYPE!!Total households!!Married-...\n",
       "3    DP02_0002PE  HOUSEHOLDS BY TYPE!!Total households!!Married-...\n",
       "4     DP02_0003E  HOUSEHOLDS BY TYPE!!Total households!!Married-...\n",
       "..           ...                                                ...\n",
       "123  DP03_0072PE  INCOME AND BENEFITS (IN 2019 INFLATION-ADJUSTE...\n",
       "124   DP03_0073E  INCOME AND BENEFITS (IN 2019 INFLATION-ADJUSTE...\n",
       "125  DP03_0073PE  INCOME AND BENEFITS (IN 2019 INFLATION-ADJUSTE...\n",
       "126   DP03_0074E  INCOME AND BENEFITS (IN 2019 INFLATION-ADJUSTE...\n",
       "127  DP03_0074PE  INCOME AND BENEFITS (IN 2019 INFLATION-ADJUSTE...\n",
       "\n",
       "[128 rows x 2 columns]"
      ]
     },
     "execution_count": 26,
     "metadata": {},
     "output_type": "execute_result"
    }
   ],
   "source": [
    "from community_ry2403.community_ry2403 import variables\n",
    "f = variables()   #Initialize the class variables\n",
    "f.find_variable(keyword='total households by marry')"
   ]
  },
  {
   "cell_type": "markdown",
   "id": "4ef85a07",
   "metadata": {},
   "source": [
    "**The results show some revelant variables and lable names**"
   ]
  },
  {
   "cell_type": "markdown",
   "id": "bb1da106",
   "metadata": {},
   "source": [
    "# 2: Get a crosswalk of ZIP-ZCTA-State\n",
    "**Now he has some ZIP level data, he's wondering which state and ZCTA area they belong to. He needs to use the function `get_code()`**"
   ]
  },
  {
   "cell_type": "code",
   "execution_count": 65,
   "id": "320c589f",
   "metadata": {},
   "outputs": [
    {
     "data": {
      "text/html": [
       "<div>\n",
       "<style scoped>\n",
       "    .dataframe tbody tr th:only-of-type {\n",
       "        vertical-align: middle;\n",
       "    }\n",
       "\n",
       "    .dataframe tbody tr th {\n",
       "        vertical-align: top;\n",
       "    }\n",
       "\n",
       "    .dataframe thead th {\n",
       "        text-align: right;\n",
       "    }\n",
       "</style>\n",
       "<table border=\"1\" class=\"dataframe\">\n",
       "  <thead>\n",
       "    <tr style=\"text-align: right;\">\n",
       "      <th></th>\n",
       "      <th>ZIP</th>\n",
       "      <th>STATE</th>\n",
       "      <th>ZCTA</th>\n",
       "      <th>STATE_CODE</th>\n",
       "    </tr>\n",
       "  </thead>\n",
       "  <tbody>\n",
       "    <tr>\n",
       "      <th>3213</th>\n",
       "      <td>10025</td>\n",
       "      <td>NY</td>\n",
       "      <td>10025</td>\n",
       "      <td>36</td>\n",
       "    </tr>\n",
       "    <tr>\n",
       "      <th>3224</th>\n",
       "      <td>10036</td>\n",
       "      <td>NY</td>\n",
       "      <td>10036</td>\n",
       "      <td>36</td>\n",
       "    </tr>\n",
       "  </tbody>\n",
       "</table>\n",
       "</div>"
      ],
      "text/plain": [
       "        ZIP STATE   ZCTA STATE_CODE\n",
       "3213  10025    NY  10025         36\n",
       "3224  10036    NY  10036         36"
      ]
     },
     "execution_count": 65,
     "metadata": {},
     "output_type": "execute_result"
    }
   ],
   "source": [
    "from community_ry2403.community_ry2403 import get_code\n",
    "get_code(area_code=['10025','10036'],level='zIP')"
   ]
  },
  {
   "cell_type": "markdown",
   "id": "3bc86cee",
   "metadata": {},
   "source": [
    "# 3: Query data from ZIP Codes Business Patterns (ZCBP) and American Community Survey (ACS)\n",
    "**After checking the related variables above, he decided to look up varibales 'DP02_0001E','DP02_0002E','DP02_0003PE' from ACS, and some varibales from ZCBP. He will use the function `census_data()` and `business_data()`**"
   ]
  },
  {
   "cell_type": "code",
   "execution_count": 68,
   "id": "d4d8ab3b",
   "metadata": {},
   "outputs": [],
   "source": [
    "from community_ry2403.community_ry2403 import census_data\n",
    "from community_ry2403.community_ry2403 import business_data"
   ]
  },
  {
   "cell_type": "code",
   "execution_count": 67,
   "id": "db6884cd",
   "metadata": {},
   "outputs": [
    {
     "data": {
      "text/html": [
       "<div>\n",
       "<style scoped>\n",
       "    .dataframe tbody tr th:only-of-type {\n",
       "        vertical-align: middle;\n",
       "    }\n",
       "\n",
       "    .dataframe tbody tr th {\n",
       "        vertical-align: top;\n",
       "    }\n",
       "\n",
       "    .dataframe thead th {\n",
       "        text-align: right;\n",
       "    }\n",
       "</style>\n",
       "<table border=\"1\" class=\"dataframe\">\n",
       "  <thead>\n",
       "    <tr style=\"text-align: right;\">\n",
       "      <th></th>\n",
       "      <th>DP02_0001E</th>\n",
       "      <th>DP02_0002E</th>\n",
       "      <th>DP02_0003PE</th>\n",
       "      <th>ZCTA</th>\n",
       "    </tr>\n",
       "  </thead>\n",
       "  <tbody>\n",
       "    <tr>\n",
       "      <th>1</th>\n",
       "      <td>17260</td>\n",
       "      <td>3111</td>\n",
       "      <td>4.2</td>\n",
       "      <td>10025</td>\n",
       "    </tr>\n",
       "    <tr>\n",
       "      <th>2</th>\n",
       "      <td>41355</td>\n",
       "      <td>14506</td>\n",
       "      <td>12.8</td>\n",
       "      <td>10036</td>\n",
       "    </tr>\n",
       "  </tbody>\n",
       "</table>\n",
       "</div>"
      ],
      "text/plain": [
       "   DP02_0001E  DP02_0002E  DP02_0003PE   ZCTA\n",
       "1       17260        3111          4.2  10025\n",
       "2       41355       14506         12.8  10036"
      ]
     },
     "execution_count": 67,
     "metadata": {},
     "output_type": "execute_result"
    }
   ],
   "source": [
    "v=['DP02_0001E','DP02_0002E','DP02_0003PE']\n",
    "census_data(year=2019,variable=v,area_code=['10025','10036'])"
   ]
  },
  {
   "cell_type": "code",
   "execution_count": 66,
   "id": "7f98a373",
   "metadata": {},
   "outputs": [
    {
     "data": {
      "text/html": [
       "<div>\n",
       "<style scoped>\n",
       "    .dataframe tbody tr th:only-of-type {\n",
       "        vertical-align: middle;\n",
       "    }\n",
       "\n",
       "    .dataframe tbody tr th {\n",
       "        vertical-align: top;\n",
       "    }\n",
       "\n",
       "    .dataframe thead th {\n",
       "        text-align: right;\n",
       "    }\n",
       "</style>\n",
       "<table border=\"1\" class=\"dataframe\">\n",
       "  <thead>\n",
       "    <tr style=\"text-align: right;\">\n",
       "      <th></th>\n",
       "      <th>EMP</th>\n",
       "      <th>EMP_N</th>\n",
       "      <th>ESTAB</th>\n",
       "      <th>PAYANN</th>\n",
       "      <th>PAYANN_N</th>\n",
       "      <th>PAYQTR1</th>\n",
       "      <th>NAICS2017</th>\n",
       "      <th>ZIP</th>\n",
       "    </tr>\n",
       "  </thead>\n",
       "  <tbody>\n",
       "    <tr>\n",
       "      <th>1</th>\n",
       "      <td>0</td>\n",
       "      <td>0</td>\n",
       "      <td>255</td>\n",
       "      <td>0</td>\n",
       "      <td>0</td>\n",
       "      <td>0</td>\n",
       "      <td>72</td>\n",
       "      <td>10025</td>\n",
       "    </tr>\n",
       "    <tr>\n",
       "      <th>2</th>\n",
       "      <td>0</td>\n",
       "      <td>0</td>\n",
       "      <td>577</td>\n",
       "      <td>0</td>\n",
       "      <td>0</td>\n",
       "      <td>0</td>\n",
       "      <td>72</td>\n",
       "      <td>10036</td>\n",
       "    </tr>\n",
       "  </tbody>\n",
       "</table>\n",
       "</div>"
      ],
      "text/plain": [
       "   EMP  EMP_N  ESTAB  PAYANN  PAYANN_N  PAYQTR1  NAICS2017    ZIP\n",
       "1    0      0    255       0         0        0         72  10025\n",
       "2    0      0    577       0         0        0         72  10036"
      ]
     },
     "execution_count": 66,
     "metadata": {},
     "output_type": "execute_result"
    }
   ],
   "source": [
    "v = ['EMP','EMP_N','ESTAB','PAYANN','PAYANN_N','PAYQTR1']\n",
    "business_data(year=2019,variable=v,area_code=['10025','10036'],industry=72)"
   ]
  },
  {
   "cell_type": "markdown",
   "id": "9f6025a3",
   "metadata": {},
   "source": [
    "# 4: Convert units, query data with customized report level"
   ]
  },
  {
   "cell_type": "markdown",
   "id": "d63f7756",
   "metadata": {},
   "source": [
    "**Considering other data of his analysis are all ZIP Code level, next step, he needs to change the report level to ZIP Code. He will use the class `search` and the function `census()` and `business()` inside**"
   ]
  },
  {
   "cell_type": "code",
   "execution_count": 69,
   "id": "f8b8174c",
   "metadata": {},
   "outputs": [],
   "source": [
    "from community_ry2403.community_ry2403 import search\n",
    "api = search()   ##Initialize the class search"
   ]
  },
  {
   "cell_type": "code",
   "execution_count": 73,
   "id": "d7f2b7e2",
   "metadata": {},
   "outputs": [
    {
     "name": "stdout",
     "output_type": "stream",
     "text": [
      "Help on function business in module community_ry2403.community_ry2403:\n",
      "\n",
      "business(self, area_code, geography, year, variable, industry)\n",
      "    A function to get community business data with customized report level (ZIP / ZCTA) from Zip Code Businiss Pattern(ZCBP) and Community Business Pattern(CBP) API.\n",
      "    If report level is ZIP, keep the original value.\n",
      "    If report level is ZCTA, for percent data, use the mean estimate within the correspondent ZIP areas, \n",
      "    and for absolute data, use the sum estimate within correspondent ZIP areas.\n",
      "    \n",
      "    Parameters\n",
      "    ----------\n",
      "    area_code: a list of strings\n",
      "        ZIP code or ZCTA code\n",
      "    geography: str\n",
      "        data reported level: ZIP or ZCTA; case-insensitive.\n",
      "    year: int\n",
      "        data reported year\n",
      "    variable: a list of strings \n",
      "        variable codes of data\n",
      "    industry: int\n",
      "        NAICS 2017 Code identifying which industry of business data you wish to get\n",
      "    \n",
      "    Returns\n",
      "    ----------\n",
      "    A pandas dataframe containing the report level, the area code and values you looked up\n",
      "    \n",
      "    \n",
      "    Examples\n",
      "    ----------\n",
      "    >>> area_code = ['79925','10025']\n",
      "    >>> geography = 'Zcta'\n",
      "    >>> year = 2019\n",
      "    >>> variable = ['ESTAB','EMP_N','PAYQTR1_N']\n",
      "    >>> industry=72\n",
      "    >>> business(area_code, geography ,year, variable, industry)\n",
      "    \n",
      "    [OUT] ZCTA      PAYQTR1_N_ZCTA  EMP_N_ZCTA      ESTAB_ZCTA\n",
      "        0   10025   0       0       255\n",
      "        1   79925   0       0       214\n",
      "\n"
     ]
    }
   ],
   "source": [
    "help(search.business)"
   ]
  },
  {
   "cell_type": "code",
   "execution_count": 74,
   "id": "d30898ad",
   "metadata": {},
   "outputs": [
    {
     "name": "stdout",
     "output_type": "stream",
     "text": [
      "Help on function census in module community_ry2403.community_ry2403:\n",
      "\n",
      "census(self, area_code, geography, year, variable)\n",
      "    A function to get community census data with customized report level (ZIP / ZCTA) from American Census Survey(ACS) API.\n",
      "    If report level is ZCTA, keep the original value.\n",
      "    If report level is ZIP, for percent data, use the original value within the correspondent ZCTA area, \n",
      "    and for absolute data, use the mean estimate within correspondent ZCTA area.\n",
      "    \n",
      "    Parameters\n",
      "    ----------\n",
      "    area_code: a list of strings\n",
      "    ZIP code or ZCTA code\n",
      "    geography: str\n",
      "    data reported level: ZIP or ZCTA; case-insensitive.\n",
      "    year: int\n",
      "    data reported year\n",
      "    variable: a list of strings \n",
      "    variable codes of data\n",
      "    \n",
      "    Returns\n",
      "    ----------\n",
      "    A pandas dataframe containing the report level, the area code and values you looked up\n",
      "    \n",
      "    \n",
      "    Examples\n",
      "    ----------\n",
      "    >>> area_code = ['10025','10036']\n",
      "    >>> geography = 'Zip'\n",
      "    >>> year = 2019\n",
      "    >>> variable = ['DP02_0001E','DP02_0001PE']\n",
      "    >>> census(area_code,geography,year, variable)\n",
      "    \n",
      "    [OUT] ZIP       DP02_0001E_ZIP  DP02_0001PE_ZIP\n",
      "        0   10025   17260.0 17260\n",
      "        1   10036   13785.0 41355\n",
      "\n"
     ]
    }
   ],
   "source": [
    "help(search.census)"
   ]
  },
  {
   "cell_type": "code",
   "execution_count": 75,
   "id": "1fa867a0",
   "metadata": {},
   "outputs": [
    {
     "data": {
      "text/html": [
       "<div>\n",
       "<style scoped>\n",
       "    .dataframe tbody tr th:only-of-type {\n",
       "        vertical-align: middle;\n",
       "    }\n",
       "\n",
       "    .dataframe tbody tr th {\n",
       "        vertical-align: top;\n",
       "    }\n",
       "\n",
       "    .dataframe thead th {\n",
       "        text-align: right;\n",
       "    }\n",
       "</style>\n",
       "<table border=\"1\" class=\"dataframe\">\n",
       "  <thead>\n",
       "    <tr style=\"text-align: right;\">\n",
       "      <th></th>\n",
       "      <th>ZIP</th>\n",
       "      <th>DP02_0001E_ZIP</th>\n",
       "      <th>DP02_0002E_ZIP</th>\n",
       "      <th>DP02_0003PE_ZIP</th>\n",
       "    </tr>\n",
       "  </thead>\n",
       "  <tbody>\n",
       "    <tr>\n",
       "      <th>0</th>\n",
       "      <td>10025</td>\n",
       "      <td>17260.0</td>\n",
       "      <td>3111.000000</td>\n",
       "      <td>4.2</td>\n",
       "    </tr>\n",
       "    <tr>\n",
       "      <th>1</th>\n",
       "      <td>10036</td>\n",
       "      <td>13785.0</td>\n",
       "      <td>4835.333333</td>\n",
       "      <td>12.8</td>\n",
       "    </tr>\n",
       "  </tbody>\n",
       "</table>\n",
       "</div>"
      ],
      "text/plain": [
       "     ZIP  DP02_0001E_ZIP  DP02_0002E_ZIP  DP02_0003PE_ZIP\n",
       "0  10025         17260.0     3111.000000              4.2\n",
       "1  10036         13785.0     4835.333333             12.8"
      ]
     },
     "execution_count": 75,
     "metadata": {},
     "output_type": "execute_result"
    }
   ],
   "source": [
    "v=['DP02_0001E','DP02_0002E','DP02_0003PE']\n",
    "api.census(area_code=['10025','10036'],geography='zip',year=2019, variable=v)"
   ]
  },
  {
   "cell_type": "code",
   "execution_count": 77,
   "id": "e15c5526",
   "metadata": {},
   "outputs": [
    {
     "data": {
      "text/html": [
       "<div>\n",
       "<style scoped>\n",
       "    .dataframe tbody tr th:only-of-type {\n",
       "        vertical-align: middle;\n",
       "    }\n",
       "\n",
       "    .dataframe tbody tr th {\n",
       "        vertical-align: top;\n",
       "    }\n",
       "\n",
       "    .dataframe thead th {\n",
       "        text-align: right;\n",
       "    }\n",
       "</style>\n",
       "<table border=\"1\" class=\"dataframe\">\n",
       "  <thead>\n",
       "    <tr style=\"text-align: right;\">\n",
       "      <th></th>\n",
       "      <th>EMP</th>\n",
       "      <th>EMP_N</th>\n",
       "      <th>ESTAB</th>\n",
       "      <th>PAYANN</th>\n",
       "      <th>PAYANN_N</th>\n",
       "      <th>PAYQTR1</th>\n",
       "      <th>NAICS2017</th>\n",
       "      <th>ZIP</th>\n",
       "    </tr>\n",
       "  </thead>\n",
       "  <tbody>\n",
       "    <tr>\n",
       "      <th>1</th>\n",
       "      <td>0</td>\n",
       "      <td>0</td>\n",
       "      <td>255</td>\n",
       "      <td>0</td>\n",
       "      <td>0</td>\n",
       "      <td>0</td>\n",
       "      <td>72</td>\n",
       "      <td>10025</td>\n",
       "    </tr>\n",
       "    <tr>\n",
       "      <th>2</th>\n",
       "      <td>0</td>\n",
       "      <td>0</td>\n",
       "      <td>577</td>\n",
       "      <td>0</td>\n",
       "      <td>0</td>\n",
       "      <td>0</td>\n",
       "      <td>72</td>\n",
       "      <td>10036</td>\n",
       "    </tr>\n",
       "  </tbody>\n",
       "</table>\n",
       "</div>"
      ],
      "text/plain": [
       "   EMP  EMP_N  ESTAB  PAYANN  PAYANN_N  PAYQTR1  NAICS2017    ZIP\n",
       "1    0      0    255       0         0        0         72  10025\n",
       "2    0      0    577       0         0        0         72  10036"
      ]
     },
     "execution_count": 77,
     "metadata": {},
     "output_type": "execute_result"
    }
   ],
   "source": [
    "v = ['EMP','EMP_N','ESTAB','PAYANN','PAYANN_N','PAYQTR1']\n",
    "api.business(area_code=['10025','10036'],geography='zip',year=2019, variable=v,industry=72)"
   ]
  },
  {
   "cell_type": "code",
   "execution_count": null,
   "id": "bf4db720",
   "metadata": {},
   "outputs": [],
   "source": []
  }
 ],
 "metadata": {
  "kernelspec": {
   "display_name": "Python 3 (ipykernel)",
   "language": "python",
   "name": "python3"
  },
  "language_info": {
   "codemirror_mode": {
    "name": "ipython",
    "version": 3
   },
   "file_extension": ".py",
   "mimetype": "text/x-python",
   "name": "python",
   "nbconvert_exporter": "python",
   "pygments_lexer": "ipython3",
   "version": "3.9.7"
  }
 },
 "nbformat": 4,
 "nbformat_minor": 5
}
